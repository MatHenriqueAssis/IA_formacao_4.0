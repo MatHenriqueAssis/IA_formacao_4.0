{
 "cells": [
  {
   "cell_type": "code",
   "execution_count": null,
   "id": "088a2fa7",
   "metadata": {},
   "outputs": [],
   "source": [
    "import pandas as pd\n",
    "import numpy as np\n",
    "import matplotlib.pyplot as plt\n",
    "import seaborn as sns\n",
    "import pickle\n",
    "import gradio as gr\n",
    "\n",
    "from sklearn.model_selection import train_test_split\n",
    "from sklearn.preprocessing import LabelEncoder\n",
    "from sklearn.metrics import accuracy_score, classification_report\n",
    "from sklearn.tree import DecisionTreeClassifier\n",
    "from sklearn.ensemble import RandomForestClassifier\n",
    "from sklearn.model_selection import StratifiedKFold"
   ]
  },
  {
   "cell_type": "code",
   "execution_count": null,
   "id": "7e8a5214",
   "metadata": {},
   "outputs": [],
   "source": [
    "df = pd.read_csv('instances/bank.csv')  "
   ]
  },
  {
   "cell_type": "code",
   "execution_count": null,
   "id": "56111855",
   "metadata": {},
   "outputs": [],
   "source": [
    "important_features = [\n",
    "    'age', 'job', 'marital', 'education', 'balance',\n",
    "    'housing', 'loan', 'contact', 'duration', 'campaign', 'deposit'  # Incluindo o target\n",
    "]\n",
    "\n",
    "df_reduced = df[important_features]\n",
    "\n",
    "df_reduced.to_csv('bank_reduced.csv', index=False)\n",
    "\n"
   ]
  },
  {
   "cell_type": "code",
   "execution_count": null,
   "id": "b0872382",
   "metadata": {},
   "outputs": [],
   "source": [
    "df = pd.read_csv('instances/bank_reduced.csv')  \n",
    "df.head()\n"
   ]
  },
  {
   "cell_type": "code",
   "execution_count": null,
   "id": "6f792385",
   "metadata": {},
   "outputs": [],
   "source": [
    "# Informações gerais\n",
    "df.info()\n",
    "\n",
    "# Distribuição do target\n",
    "sns.countplot(x='deposit', data=df)\n",
    "plt.title('Distribuição do Target (deposit)')\n",
    "plt.show()\n",
    "\n",
    "# Exemplo de análise por marital status\n",
    "sns.countplot(x='marital', hue='deposit', data=df)\n",
    "plt.title('Estado civil vs Depósito')\n",
    "plt.show()\n"
   ]
  },
  {
   "cell_type": "code",
   "execution_count": null,
   "id": "35582711",
   "metadata": {},
   "outputs": [],
   "source": [
    "# Codificação de variáveis categóricas\n",
    "label_encoder = LabelEncoder()\n",
    "for column in df.select_dtypes(include=['object']).columns:\n",
    "    df[column] = label_encoder.fit_transform(df[column])\n",
    "\n",
    "# Separar features e target\n",
    "X = df.drop('deposit', axis=1)\n",
    "y = df['deposit']"
   ]
  },
  {
   "cell_type": "code",
   "execution_count": null,
   "id": "643ce988",
   "metadata": {},
   "outputs": [],
   "source": [
    "X_train, X_test, y_train, y_test = train_test_split(\n",
    "    X, y, test_size=0.3, random_state=42\n",
    ")\n"
   ]
  },
  {
   "cell_type": "code",
   "execution_count": null,
   "id": "89d411ee",
   "metadata": {},
   "outputs": [],
   "source": [
    "# Modelo 1: Decision Tree\n",
    "dt = DecisionTreeClassifier(random_state=42)\n",
    "dt.fit(X_train, y_train)\n",
    "y_pred_dt = dt.predict(X_test)\n",
    "print(\"Decision Tree Accuracy:\", accuracy_score(y_test, y_pred_dt))\n",
    "\n",
    "# Modelo 2: Random Forest\n",
    "rf = RandomForestClassifier(random_state=42)\n",
    "rf.fit(X_train, y_train)\n",
    "y_pred_rf = rf.predict(X_test)\n",
    "print(\"Random Forest Accuracy:\", accuracy_score(y_test, y_pred_rf))\n"
   ]
  },
  {
   "cell_type": "code",
   "execution_count": null,
   "id": "1b62deef",
   "metadata": {},
   "outputs": [],
   "source": [
    "def evaluate_model(model, X, y, n_splits=30):\n",
    "    skf = StratifiedKFold(n_splits=n_splits, shuffle=True, random_state=42)\n",
    "    scores = []\n",
    "    \n",
    "    for train_index, test_index in skf.split(X, y):\n",
    "        X_train_fold, X_test_fold = X.iloc[train_index], X.iloc[test_index]\n",
    "        y_train_fold, y_test_fold = y.iloc[train_index], y.iloc[test_index]\n",
    "        \n",
    "        model.fit(X_train_fold, y_train_fold)\n",
    "        y_pred = model.predict(X_test_fold)\n",
    "        scores.append(accuracy_score(y_test_fold, y_pred))\n",
    "    \n",
    "    return np.mean(scores), np.std(scores)\n",
    "\n",
    "mean_dt, std_dt = evaluate_model(dt, X, y)\n",
    "mean_rf, std_rf = evaluate_model(rf, X, y)\n",
    "\n",
    "print(f\"Decision Tree: Mean={mean_dt:.4f}, Std={std_dt:.4f}\")\n",
    "print(f\"Random Forest: Mean={mean_rf:.4f}, Std={std_rf:.4f}\")\n"
   ]
  },
  {
   "cell_type": "code",
   "execution_count": null,
   "id": "e576da81",
   "metadata": {},
   "outputs": [],
   "source": [
    "# Salvar o melhor modelo\n",
    "with open('best_model.pkl', 'wb') as f:\n",
    "    pickle.dump(rf, f)  \n"
   ]
  },
  {
   "cell_type": "code",
   "execution_count": null,
   "id": "fb483fea",
   "metadata": {},
   "outputs": [],
   "source": [
    "def predict_bank(age, job, marital, education, balance, housing, loan, contact, duration):\n",
    "    input_data = pd.DataFrame([[age, job, marital, education, balance, housing, loan, contact, duration]], \n",
    "                            columns=['age', 'job', 'marital', 'education', 'balance', 'housing', 'loan', 'contact', 'duration'])\n",
    "    input_data = label_encoder.transform(input_data)\n",
    "    prediction = rf.predict(input_data)\n",
    "    return 'Yes' if prediction[0] == 1 else 'No'\n",
    "\n",
    "gr.Interface(fn=predict_bank, \n",
    "            inputs=[\"number\", \"text\", \"text\", \"text\", \"number\", \"text\", \"text\", \"text\", \"number\"], \n",
    "            outputs=\"text\").launch()\n"
   ]
  }
 ],
 "metadata": {
  "kernelspec": {
   "display_name": "venv",
   "language": "python",
   "name": "python3"
  },
  "language_info": {
   "codemirror_mode": {
    "name": "ipython",
    "version": 3
   },
   "file_extension": ".py",
   "mimetype": "text/x-python",
   "name": "python",
   "nbconvert_exporter": "python",
   "pygments_lexer": "ipython3",
   "version": "3.12.7"
  }
 },
 "nbformat": 4,
 "nbformat_minor": 5
}
